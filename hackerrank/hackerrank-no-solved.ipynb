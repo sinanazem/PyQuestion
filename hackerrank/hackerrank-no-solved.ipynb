{
 "cells": [
  {
   "cell_type": "code",
   "execution_count": 1,
   "id": "68999d8d",
   "metadata": {},
   "outputs": [],
   "source": []
  },
  {
   "cell_type": "code",
   "execution_count": null,
   "id": "bf8a79a4",
   "metadata": {},
   "outputs": [],
   "source": [
    "12\n",
    "insert 0 5\n",
    "insert 1 10\n",
    "insert 0 6\n",
    "print\n",
    "remove 6\n",
    "append 9\n",
    "append 1\n",
    "sort\n",
    "print\n",
    "pop\n",
    "reverse\n",
    "print"
   ]
  },
  {
   "cell_type": "code",
   "execution_count": 12,
   "id": "a81d7fa9",
   "metadata": {},
   "outputs": [
    {
     "name": "stdout",
     "output_type": "stream",
     "text": [
      "12\n",
      "insert 0 5\n",
      "insert 1 10\n",
      "insert 0 6\n",
      "print\n",
      "[6, 5, 10]\n",
      "remove 6\n",
      "append 9\n",
      "append 1\n",
      "sort\n",
      "print\n",
      "[1, 5, 9, 10]\n",
      "pop\n",
      "reverse\n",
      "print\n",
      "[9, 5, 1]\n"
     ]
    }
   ],
   "source": [
    "n = int(input())\n",
    "list_ = []\n",
    "for i in range(n):\n",
    "    command, *list_temp = input().split()\n",
    "    if command == 'insert':\n",
    "        list_.insert(*list(map(int,list_temp)))\n",
    "    elif command == 'print':\n",
    "        print(list_)\n",
    "    elif command == 'remove':\n",
    "        list_.remove(*list(map(int,list_temp)))\n",
    "    elif command == 'append':\n",
    "        list_.append(*list(map(int,list_temp)))\n",
    "    elif command == 'sort':\n",
    "        list_.sort()\n",
    "    elif command == 'pop':\n",
    "        list_.pop()\n",
    "    elif command == 'reverse':\n",
    "        list_.reverse()"
   ]
  },
  {
   "cell_type": "code",
   "execution_count": 7,
   "id": "4d952409",
   "metadata": {},
   "outputs": [],
   "source": [
    "a = [1, 2, 3]"
   ]
  },
  {
   "cell_type": "code",
   "execution_count": 9,
   "id": "45e90fc9",
   "metadata": {},
   "outputs": [],
   "source": [
    "a.reverse()"
   ]
  },
  {
   "cell_type": "code",
   "execution_count": 10,
   "id": "1fe47d7d",
   "metadata": {},
   "outputs": [
    {
     "data": {
      "text/plain": [
       "[3, 2, 1]"
      ]
     },
     "execution_count": 10,
     "metadata": {},
     "output_type": "execute_result"
    }
   ],
   "source": [
    "a"
   ]
  },
  {
   "cell_type": "code",
   "execution_count": 13,
   "id": "e7d01adc",
   "metadata": {},
   "outputs": [
    {
     "name": "stdout",
     "output_type": "stream",
     "text": [
      "3\n"
     ]
    },
    {
     "ename": "AttributeError",
     "evalue": "'str' object has no attribute '______'",
     "output_type": "error",
     "traceback": [
      "\u001b[1;31m---------------------------------------------------------------------------\u001b[0m",
      "\u001b[1;31mAttributeError\u001b[0m                            Traceback (most recent call last)",
      "Cell \u001b[1;32mIn[13], line 8\u001b[0m\n\u001b[0;32m      6\u001b[0m \u001b[38;5;66;03m#Top Cone\u001b[39;00m\n\u001b[0;32m      7\u001b[0m \u001b[38;5;28;01mfor\u001b[39;00m i \u001b[38;5;129;01min\u001b[39;00m \u001b[38;5;28mrange\u001b[39m(thickness):\n\u001b[1;32m----> 8\u001b[0m     \u001b[38;5;28mprint\u001b[39m(\u001b[43m(\u001b[49m\u001b[43mc\u001b[49m\u001b[38;5;241;43m*\u001b[39;49m\u001b[43mi\u001b[49m\u001b[43m)\u001b[49m\u001b[38;5;241;43m.\u001b[39;49m\u001b[43m______\u001b[49m(thickness\u001b[38;5;241m-\u001b[39m\u001b[38;5;241m1\u001b[39m)\u001b[38;5;241m+\u001b[39mc\u001b[38;5;241m+\u001b[39m(c\u001b[38;5;241m*\u001b[39mi)\u001b[38;5;241m.\u001b[39m______(thickness\u001b[38;5;241m-\u001b[39m\u001b[38;5;241m1\u001b[39m))\n\u001b[0;32m     10\u001b[0m \u001b[38;5;66;03m#Top Pillars\u001b[39;00m\n\u001b[0;32m     11\u001b[0m \u001b[38;5;28;01mfor\u001b[39;00m i \u001b[38;5;129;01min\u001b[39;00m \u001b[38;5;28mrange\u001b[39m(thickness\u001b[38;5;241m+\u001b[39m\u001b[38;5;241m1\u001b[39m):\n",
      "\u001b[1;31mAttributeError\u001b[0m: 'str' object has no attribute '______'"
     ]
    }
   ],
   "source": [
    "#Replace all ______ with rjust, ljust or center. \n",
    "\n",
    "thickness = int(input()) #This must be an odd number\n",
    "c = 'H'\n",
    "\n",
    "#Top Cone\n",
    "for i in range(thickness):\n",
    "    print((c*i).______(thickness-1)+c+(c*i).______(thickness-1))\n",
    "\n",
    "#Top Pillars\n",
    "for i in range(thickness+1):\n",
    "    print((c*thickness).______(thickness*2)+(c*thickness).______(thickness*6))\n",
    "\n",
    "#Middle Belt\n",
    "for i in range((thickness+1)//2):\n",
    "    print((c*thickness*5).______(thickness*6))    \n",
    "\n",
    "#Bottom Pillars\n",
    "for i in range(thickness+1):\n",
    "    print((c*thickness).______(thickness*2)+(c*thickness).______(thickness*6))    \n",
    "\n",
    "#Bottom Cone\n",
    "for i in range(thickness):\n",
    "    print(((c*(thickness-i-1)).______(thickness)+c+(c*(thickness-i-1)).______(thickness)).______(thickness*6))"
   ]
  },
  {
   "cell_type": "code",
   "execution_count": 15,
   "id": "2d54e382",
   "metadata": {},
   "outputs": [
    {
     "name": "stdout",
     "output_type": "stream",
     "text": [
      "HackerRank--------------------\n"
     ]
    }
   ],
   "source": [
    "width = 30\n",
    "print('HackerRank'.ljust(width,'-'))"
   ]
  },
  {
   "cell_type": "code",
   "execution_count": 16,
   "id": "40e3cd5a",
   "metadata": {},
   "outputs": [
    {
     "name": "stdout",
     "output_type": "stream",
     "text": [
      "--------------------HackerRank\n"
     ]
    }
   ],
   "source": [
    "print('HackerRank'.rjust(width,'-'))"
   ]
  },
  {
   "cell_type": "code",
   "execution_count": 17,
   "id": "7e95d1bd",
   "metadata": {},
   "outputs": [
    {
     "name": "stdout",
     "output_type": "stream",
     "text": [
      "----------HackerRank----------\n"
     ]
    }
   ],
   "source": [
    "print('HackerRank'.center(width,'-'))"
   ]
  },
  {
   "cell_type": "code",
   "execution_count": 20,
   "id": "2ef4c038",
   "metadata": {},
   "outputs": [
    {
     "name": "stdout",
     "output_type": "stream",
     "text": [
      "3\n",
      "  H  \n",
      "H HH \n",
      "HHHHH\n"
     ]
    }
   ],
   "source": [
    "#Replace all ______ with rjust, ljust or center. \n",
    "\n",
    "thickness = int(input()) #This must be an odd number\n",
    "c = 'H'\n",
    "\n",
    "#Top Cone\n",
    "for i in range(thickness):\n",
    "    print((c*i).center(thickness-1)+c+(c*i).center(thickness-1))\n",
    "\n",
    "# #Top Pillars\n",
    "# for i in range(thickness+1):\n",
    "#     print((c*thickness).______(thickness*2)+(c*thickness).______(thickness*6))\n",
    "\n",
    "# #Middle Belt\n",
    "# for i in range((thickness+1)//2):\n",
    "#     print((c*thickness*5).______(thickness*6))    \n",
    "\n",
    "# #Bottom Pillars\n",
    "# for i in range(thickness+1):\n",
    "#     print((c*thickness).______(thickness*2)+(c*thickness).______(thickness*6))    \n",
    "\n",
    "# #Bottom Cone\n",
    "# for i in range(thickness):\n",
    "#     print(((c*(thickness-i-1)).______(thickness)+c+(c*(thickness-i-1)).______(thickness)).______(thickness*6))"
   ]
  },
  {
   "cell_type": "code",
   "execution_count": 23,
   "id": "fbf9aca1",
   "metadata": {},
   "outputs": [
    {
     "name": "stdout",
     "output_type": "stream",
     "text": [
      "  H  \n",
      "H HH \n",
      "HHHHH\n",
      "HHHHHHH\n",
      "HHHHHHHHH\n"
     ]
    }
   ],
   "source": [
    "\n",
    "c = 'H'\n",
    "\n",
    "#Top Cone\n",
    "for i in range(5):\n",
    "    print((c*i).center(thickness-1)+c+(c*i).center(thickness-1))"
   ]
  },
  {
   "cell_type": "code",
   "execution_count": 34,
   "id": "137eccda",
   "metadata": {},
   "outputs": [
    {
     "name": "stdout",
     "output_type": "stream",
     "text": [
      "  H  \n",
      "H H H\n",
      "HHHHH\n",
      "HHHHHHH\n",
      "HHHHHHHHH\n"
     ]
    }
   ],
   "source": [
    "for i in range(5):\n",
    "    print((c*i).ljust(thickness-1)+c+(c*i).rjust(thickness-1))"
   ]
  },
  {
   "cell_type": "code",
   "execution_count": null,
   "id": "a2450de8",
   "metadata": {},
   "outputs": [],
   "source": []
  }
 ],
 "metadata": {
  "kernelspec": {
   "display_name": "Python 3 (ipykernel)",
   "language": "python",
   "name": "python3"
  },
  "language_info": {
   "codemirror_mode": {
    "name": "ipython",
    "version": 3
   },
   "file_extension": ".py",
   "mimetype": "text/x-python",
   "name": "python",
   "nbconvert_exporter": "python",
   "pygments_lexer": "ipython3",
   "version": "3.10.9"
  }
 },
 "nbformat": 4,
 "nbformat_minor": 5
}
