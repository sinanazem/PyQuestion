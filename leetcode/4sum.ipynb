{
 "cells": [
  {
   "cell_type": "code",
   "execution_count": null,
   "metadata": {},
   "outputs": [],
   "source": [
    "class Solution(object):\n",
    "    def fourSum(self, nums, target):\n",
    "        \"\"\"\n",
    "        :type nums: List[int]\n",
    "        :type target: int\n",
    "        :rtype: List[List[int]]\n",
    "        \"\"\"\n",
    "        \n",
    "        nums.sort()\n",
    "        lst, quad = [], []\n",
    "        \n",
    "        def ksum(k, start, target):\n",
    "            if k != 2:\n",
    "                for i in range(start, len(nums)-k +1):\n",
    "                    quad.append(nums[i])\n",
    "                    ksum(k-1, i+1, target-nums[i])\n",
    "                    quad.pop()\n",
    "                    return \n",
    "            l, r = start, len(nums)-1\n",
    "            while l < r:\n",
    "                if nums[l] + nums[r] < target:\n",
    "                    l+=1\n",
    "                    \n",
    "                elif nums[l] + nums[r] > target:\n",
    "                    r-=1\n",
    "                else:\n",
    "                    lst.append(quad + nums[r]+nums[l])\n",
    "                    l+=1\n",
    "                    while l < r and nums[l] == nums[l-1]:\n",
    "                        l+=1"
   ]
  },
  {
   "cell_type": "code",
   "execution_count": null,
   "metadata": {},
   "outputs": [],
   "source": []
  }
 ],
 "metadata": {
  "language_info": {
   "name": "python"
  }
 },
 "nbformat": 4,
 "nbformat_minor": 2
}
