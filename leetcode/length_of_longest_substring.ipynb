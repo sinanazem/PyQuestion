{
 "cells": [
  {
   "cell_type": "code",
   "execution_count": 2,
   "metadata": {},
   "outputs": [],
   "source": [
    "s = \"abcabcbb\""
   ]
  },
  {
   "cell_type": "code",
   "execution_count": 5,
   "metadata": {},
   "outputs": [],
   "source": [
    "def lengthOfLongestSubstring(s):\n",
    "    \"\"\"\n",
    "    :type s: str\n",
    "    :rtype: int\n",
    "    \"\"\"\n",
    "    set_ = set()\n",
    "    i = j = 0\n",
    "    length, max_ = (len(s), 0) if len(s) else (0, 0)\n",
    "\n",
    "    while j < length:\n",
    "        if s[j] not in set_:\n",
    "            set_.add(s[j])\n",
    "            \n",
    "            if max_ <= j-i:\n",
    "                max_ = j-i+1\n",
    "            \n",
    "            j += 1\n",
    "\n",
    "        else:\n",
    "            set_.remove(s[i])\n",
    "            i += 1\n",
    "    \n",
    "    return max_"
   ]
  },
  {
   "cell_type": "code",
   "execution_count": 6,
   "metadata": {},
   "outputs": [
    {
     "data": {
      "text/plain": [
       "3"
      ]
     },
     "execution_count": 6,
     "metadata": {},
     "output_type": "execute_result"
    }
   ],
   "source": [
    "lengthOfLongestSubstring(s)"
   ]
  },
  {
   "cell_type": "code",
   "execution_count": 17,
   "metadata": {},
   "outputs": [],
   "source": [
    "def longestPalindrome(s):\n",
    "    \"\"\"\n",
    "    :type s: str\n",
    "    :rtype: str\n",
    "    \"\"\"\n",
    "    n = len(s)\n",
    "    res = \"\"\n",
    "    res_length = 0\n",
    "\n",
    "    for i in range(n):\n",
    "        # odd\n",
    "        l, r = i, i\n",
    "        while l >= 0 and r < n and s[l] == s[r]:\n",
    "            if (r - l + 1) > res_length:\n",
    "                res = s[l:r+1]\n",
    "                res_length = (r - l + 1)\n",
    "            \n",
    "            l -= 1\n",
    "            r += 1\n",
    "\n",
    "        # even\n",
    "        l, r = i, i+1\n",
    "        while l >= 0 and r < n and s[l] == s[r]:\n",
    "            if (r - l + 1) > res_length:\n",
    "                res = s[l:r+1]\n",
    "                res_length = (r - l + 1)\n",
    "            \n",
    "            l -= 1\n",
    "            r += 1\n",
    "    return res\n",
    "        "
   ]
  },
  {
   "cell_type": "code",
   "execution_count": 18,
   "metadata": {},
   "outputs": [
    {
     "data": {
      "text/plain": [
       "'bb'"
      ]
     },
     "execution_count": 18,
     "metadata": {},
     "output_type": "execute_result"
    }
   ],
   "source": [
    "longestPalindrome(\"cbbd\")"
   ]
  },
  {
   "cell_type": "code",
   "execution_count": 2,
   "metadata": {},
   "outputs": [],
   "source": [
    "\n",
    "\n",
    "\n",
    "\n",
    "def convert(s, numRows):\n",
    "    \"\"\"\n",
    "    :type s: str\n",
    "    :type numRows: int\n",
    "    :rtype: str\n",
    "    \"\"\"\n",
    "\n",
    "    row = 0\n",
    "    flag = True\n",
    "    m = [[] for i in range(numRows)]\n",
    "\n",
    "    for i in s:\n",
    "        if flag:\n",
    "            m[row].append(i)\n",
    "            row += 1\n",
    "        else:\n",
    "            row -= 1\n",
    "            m[row].append(i)\n",
    "\n",
    "        if row == numRows:\n",
    "            flag = not flag\n",
    "            row -= 1\n",
    "        \n",
    "        elif row == 0:\n",
    "            flag = not flag\n",
    "            row += 1\n",
    "    return \"\".join([\"\".join(i) for i in m])"
   ]
  },
  {
   "cell_type": "code",
   "execution_count": 3,
   "metadata": {},
   "outputs": [
    {
     "data": {
      "text/plain": [
       "'PAHNAPLSIIGYIR'"
      ]
     },
     "execution_count": 3,
     "metadata": {},
     "output_type": "execute_result"
    }
   ],
   "source": [
    "convert(\"PAYPALISHIRING\", numRows=3)"
   ]
  },
  {
   "cell_type": "code",
   "execution_count": 4,
   "metadata": {},
   "outputs": [
    {
     "data": {
      "text/plain": [
       "'PAHNAPLSIIGYIR'"
      ]
     },
     "execution_count": 4,
     "metadata": {},
     "output_type": "execute_result"
    }
   ],
   "source": [
    "\"PAHNAPLSIIGYIR\""
   ]
  },
  {
   "cell_type": "code",
   "execution_count": 5,
   "metadata": {},
   "outputs": [],
   "source": [
    "def reverse(x):\n",
    "    \"\"\"\n",
    "    :type x: int\n",
    "    :rtype: int\n",
    "    \"\"\"\n",
    "\n",
    "    sign, x = (1, x) if x >= 0 else (-1, -x)\n",
    "    res = 0\n",
    "    while x>0:\n",
    "        res = res*10 + x%10\n",
    "        x//=10\n",
    "    res*= sign\n",
    "\n",
    "    return res"
   ]
  },
  {
   "cell_type": "code",
   "execution_count": 7,
   "metadata": {},
   "outputs": [
    {
     "data": {
      "text/plain": [
       "-123"
      ]
     },
     "execution_count": 7,
     "metadata": {},
     "output_type": "execute_result"
    }
   ],
   "source": [
    "reverse(-321)"
   ]
  },
  {
   "cell_type": "code",
   "execution_count": 1,
   "metadata": {},
   "outputs": [],
   "source": [
    "a = [1, 2, 3, 5, 7]"
   ]
  },
  {
   "cell_type": "code",
   "execution_count": 2,
   "metadata": {},
   "outputs": [],
   "source": []
  },
  {
   "cell_type": "code",
   "execution_count": 9,
   "metadata": {},
   "outputs": [],
   "source": [
    "def add_two_number(lst, target):\n",
    "    for i in range(len(lst)):\n",
    "        for j in range(i+1, len(lst)):\n",
    "            if lst[i] + lst[j] == target:\n",
    "                return [i, j]"
   ]
  },
  {
   "cell_type": "code",
   "execution_count": 10,
   "metadata": {},
   "outputs": [
    {
     "data": {
      "text/plain": [
       "[1, 4]"
      ]
     },
     "execution_count": 10,
     "metadata": {},
     "output_type": "execute_result"
    }
   ],
   "source": [
    "add_two_number([1, 2, 3, 5, 7], 9)"
   ]
  },
  {
   "cell_type": "code",
   "execution_count": 57,
   "metadata": {},
   "outputs": [],
   "source": [
    "def add_two_number(lst, target):\n",
    "    dict_={}\n",
    "    i = 0\n",
    "    while i < len(lst):\n",
    "        \n",
    "        if lst[i] in dict_:\n",
    "            \n",
    "            return i, dict_[lst[i]]\n",
    "        \n",
    "        else:\n",
    "            val = target - lst[i]\n",
    "            # print(val)\n",
    "            dict_[val]=i\n",
    "        \n",
    "        i+=1\n",
    "            \n",
    "            \n",
    "            "
   ]
  },
  {
   "cell_type": "code",
   "execution_count": 58,
   "metadata": {},
   "outputs": [
    {
     "data": {
      "text/plain": [
       "(4, 1)"
      ]
     },
     "execution_count": 58,
     "metadata": {},
     "output_type": "execute_result"
    }
   ],
   "source": [
    "add_two_number(a, 9)"
   ]
  },
  {
   "cell_type": "code",
   "execution_count": null,
   "metadata": {},
   "outputs": [],
   "source": []
  }
 ],
 "metadata": {
  "kernelspec": {
   "display_name": "py311",
   "language": "python",
   "name": "python3"
  },
  "language_info": {
   "codemirror_mode": {
    "name": "ipython",
    "version": 3
   },
   "file_extension": ".py",
   "mimetype": "text/x-python",
   "name": "python",
   "nbconvert_exporter": "python",
   "pygments_lexer": "ipython3",
   "version": "3.11.9"
  }
 },
 "nbformat": 4,
 "nbformat_minor": 2
}
