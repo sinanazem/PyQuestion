{
 "cells": [
  {
   "cell_type": "code",
   "execution_count": 2,
   "metadata": {},
   "outputs": [],
   "source": [
    "s = \"abcabcbb\""
   ]
  },
  {
   "cell_type": "code",
   "execution_count": 5,
   "metadata": {},
   "outputs": [],
   "source": [
    "def lengthOfLongestSubstring(s):\n",
    "    \"\"\"\n",
    "    :type s: str\n",
    "    :rtype: int\n",
    "    \"\"\"\n",
    "    set_ = set()\n",
    "    i = j = 0\n",
    "    length, max_ = (len(s), 0) if len(s) else (0, 0)\n",
    "\n",
    "    while j < length:\n",
    "        if s[j] not in set_:\n",
    "            set_.add(s[j])\n",
    "            \n",
    "            if max_ <= j-i:\n",
    "                max_ = j-i+1\n",
    "            \n",
    "            j += 1\n",
    "\n",
    "        else:\n",
    "            set_.remove(s[i])\n",
    "            i += 1\n",
    "    \n",
    "    return max_"
   ]
  },
  {
   "cell_type": "code",
   "execution_count": 6,
   "metadata": {},
   "outputs": [
    {
     "data": {
      "text/plain": [
       "3"
      ]
     },
     "execution_count": 6,
     "metadata": {},
     "output_type": "execute_result"
    }
   ],
   "source": [
    "lengthOfLongestSubstring(s)"
   ]
  },
  {
   "cell_type": "code",
   "execution_count": 17,
   "metadata": {},
   "outputs": [],
   "source": [
    "def longestPalindrome(s):\n",
    "    \"\"\"\n",
    "    :type s: str\n",
    "    :rtype: str\n",
    "    \"\"\"\n",
    "    n = len(s)\n",
    "    res = \"\"\n",
    "    res_length = 0\n",
    "\n",
    "    for i in range(n):\n",
    "        # odd\n",
    "        l, r = i, i\n",
    "        while l >= 0 and r < n and s[l] == s[r]:\n",
    "            if (r - l + 1) > res_length:\n",
    "                res = s[l:r+1]\n",
    "                res_length = (r - l + 1)\n",
    "            \n",
    "            l -= 1\n",
    "            r += 1\n",
    "\n",
    "        # even\n",
    "        l, r = i, i+1\n",
    "        while l >= 0 and r < n and s[l] == s[r]:\n",
    "            if (r - l + 1) > res_length:\n",
    "                res = s[l:r+1]\n",
    "                res_length = (r - l + 1)\n",
    "            \n",
    "            l -= 1\n",
    "            r += 1\n",
    "    return res\n",
    "        "
   ]
  },
  {
   "cell_type": "code",
   "execution_count": 18,
   "metadata": {},
   "outputs": [
    {
     "data": {
      "text/plain": [
       "'bb'"
      ]
     },
     "execution_count": 18,
     "metadata": {},
     "output_type": "execute_result"
    }
   ],
   "source": [
    "longestPalindrome(\"cbbd\")"
   ]
  },
  {
   "cell_type": "code",
   "execution_count": 2,
   "metadata": {},
   "outputs": [],
   "source": [
    "\n",
    "\n",
    "\n",
    "\n",
    "def convert(s, numRows):\n",
    "    \"\"\"\n",
    "    :type s: str\n",
    "    :type numRows: int\n",
    "    :rtype: str\n",
    "    \"\"\"\n",
    "\n",
    "    row = 0\n",
    "    flag = True\n",
    "    m = [[] for i in range(numRows)]\n",
    "\n",
    "    for i in s:\n",
    "        if flag:\n",
    "            m[row].append(i)\n",
    "            row += 1\n",
    "        else:\n",
    "            row -= 1\n",
    "            m[row].append(i)\n",
    "\n",
    "        if row == numRows:\n",
    "            flag = not flag\n",
    "            row -= 1\n",
    "        \n",
    "        elif row == 0:\n",
    "            flag = not flag\n",
    "            row += 1\n",
    "    return \"\".join([\"\".join(i) for i in m])"
   ]
  },
  {
   "cell_type": "code",
   "execution_count": 3,
   "metadata": {},
   "outputs": [
    {
     "data": {
      "text/plain": [
       "'PAHNAPLSIIGYIR'"
      ]
     },
     "execution_count": 3,
     "metadata": {},
     "output_type": "execute_result"
    }
   ],
   "source": [
    "convert(\"PAYPALISHIRING\", numRows=3)"
   ]
  },
  {
   "cell_type": "code",
   "execution_count": 4,
   "metadata": {},
   "outputs": [
    {
     "data": {
      "text/plain": [
       "'PAHNAPLSIIGYIR'"
      ]
     },
     "execution_count": 4,
     "metadata": {},
     "output_type": "execute_result"
    }
   ],
   "source": [
    "\"PAHNAPLSIIGYIR\""
   ]
  },
  {
   "cell_type": "code",
   "execution_count": 5,
   "metadata": {},
   "outputs": [],
   "source": [
    "def reverse(x):\n",
    "    \"\"\"\n",
    "    :type x: int\n",
    "    :rtype: int\n",
    "    \"\"\"\n",
    "\n",
    "    sign, x = (1, x) if x >= 0 else (-1, -x)\n",
    "    res = 0\n",
    "    while x>0:\n",
    "        res = res*10 + x%10\n",
    "        x//=10\n",
    "    res*= sign\n",
    "\n",
    "    return res"
   ]
  },
  {
   "cell_type": "code",
   "execution_count": 7,
   "metadata": {},
   "outputs": [
    {
     "data": {
      "text/plain": [
       "-123"
      ]
     },
     "execution_count": 7,
     "metadata": {},
     "output_type": "execute_result"
    }
   ],
   "source": [
    "reverse(-321)"
   ]
  },
  {
   "cell_type": "code",
   "execution_count": 1,
   "metadata": {},
   "outputs": [],
   "source": [
    "a = [1, 2, 3, 5, 7]"
   ]
  },
  {
   "cell_type": "code",
   "execution_count": 2,
   "metadata": {},
   "outputs": [],
   "source": []
  },
  {
   "cell_type": "code",
   "execution_count": 9,
   "metadata": {},
   "outputs": [],
   "source": [
    "def add_two_number(lst, target):\n",
    "    for i in range(len(lst)):\n",
    "        for j in range(i+1, len(lst)):\n",
    "            if lst[i] + lst[j] == target:\n",
    "                return [i, j]"
   ]
  },
  {
   "cell_type": "code",
   "execution_count": 10,
   "metadata": {},
   "outputs": [
    {
     "data": {
      "text/plain": [
       "[1, 4]"
      ]
     },
     "execution_count": 10,
     "metadata": {},
     "output_type": "execute_result"
    }
   ],
   "source": [
    "add_two_number([1, 2, 3, 5, 7], 9)"
   ]
  },
  {
   "cell_type": "code",
   "execution_count": 57,
   "metadata": {},
   "outputs": [],
   "source": [
    "def add_two_number(lst, target):\n",
    "    dict_={}\n",
    "    i = 0\n",
    "    while i < len(lst):\n",
    "        \n",
    "        if lst[i] in dict_:\n",
    "            \n",
    "            return i, dict_[lst[i]]\n",
    "        \n",
    "        else:\n",
    "            val = target - lst[i]\n",
    "            # print(val)\n",
    "            dict_[val]=i\n",
    "        \n",
    "        i+=1\n",
    "            \n",
    "            \n",
    "            "
   ]
  },
  {
   "cell_type": "code",
   "execution_count": 58,
   "metadata": {},
   "outputs": [
    {
     "data": {
      "text/plain": [
       "(4, 1)"
      ]
     },
     "execution_count": 58,
     "metadata": {},
     "output_type": "execute_result"
    }
   ],
   "source": [
    "add_two_number(a, 9)"
   ]
  },
  {
   "cell_type": "code",
   "execution_count": 75,
   "metadata": {},
   "outputs": [],
   "source": [
    "def intToRoman(num):\n",
    "    \"\"\"\n",
    "    :type num: int\n",
    "    :rtype: str\n",
    "    \"\"\"\n",
    "    symbols = {\n",
    "        1000: 'M', \n",
    "        900: 'CM', \n",
    "        500: 'D', \n",
    "        400: 'CD', \n",
    "        100: 'C', \n",
    "        90: 'XC', \n",
    "        50: 'L', \n",
    "        40: 'XL', \n",
    "        10: 'X', \n",
    "        9: 'IX', \n",
    "        5: 'V', \n",
    "        4: 'IV', \n",
    "        1: 'I'\n",
    "    }\n",
    "\n",
    "    res = \"\"\n",
    "    for k,v in symbols.items():\n",
    "        c = num // k\n",
    "        if c:\n",
    "            res += (c*v)\n",
    "            num %= k\n",
    "            if num == 0:\n",
    "                break\n",
    "    return res"
   ]
  },
  {
   "cell_type": "code",
   "execution_count": 77,
   "metadata": {},
   "outputs": [
    {
     "data": {
      "text/plain": [
       "'MMI'"
      ]
     },
     "execution_count": 77,
     "metadata": {},
     "output_type": "execute_result"
    }
   ],
   "source": [
    "intToRoman(3749)"
   ]
  },
  {
   "cell_type": "code",
   "execution_count": 78,
   "metadata": {},
   "outputs": [],
   "source": [
    "class Solution:\n",
    "\n",
    "    def intToRoman(self, num: int) -> str:\n",
    "        symbols = {1000: 'M', \n",
    "                    900: 'CM', \n",
    "                    500: 'D', \n",
    "                    400: 'CD', \n",
    "                    100: 'C', \n",
    "                    90: 'XC', \n",
    "                    50: 'L', \n",
    "                    40: 'XL', \n",
    "                    10: 'X', \n",
    "                    9: 'IX', \n",
    "                    5: 'V', \n",
    "                    4: 'IV', \n",
    "                    1: 'I'}\n",
    "                    \n",
    "        res = \"\"\n",
    "    \n",
    "        for k, v in symbols.items():\n",
    "            c = num//k \n",
    "            if c:\n",
    "                res += c * v\n",
    "                num %= k\n",
    "                if num == 0:\n",
    "                    break\n",
    "        return res"
   ]
  },
  {
   "cell_type": "code",
   "execution_count": 80,
   "metadata": {},
   "outputs": [],
   "source": [
    "obj = Solution()"
   ]
  },
  {
   "cell_type": "code",
   "execution_count": 81,
   "metadata": {},
   "outputs": [
    {
     "data": {
      "text/plain": [
       "'MMMDCCXLIX'"
      ]
     },
     "execution_count": 81,
     "metadata": {},
     "output_type": "execute_result"
    }
   ],
   "source": [
    "obj.intToRoman(3749)"
   ]
  },
  {
   "cell_type": "code",
   "execution_count": null,
   "metadata": {},
   "outputs": [],
   "source": []
  },
  {
   "cell_type": "code",
   "execution_count": null,
   "metadata": {},
   "outputs": [],
   "source": []
  },
  {
   "cell_type": "code",
   "execution_count": null,
   "metadata": {},
   "outputs": [],
   "source": []
  },
  {
   "cell_type": "code",
   "execution_count": null,
   "metadata": {},
   "outputs": [],
   "source": [
    "def lengthOfLongestSubstring(self, s):\n",
    "    \"\"\"\n",
    "    :type s: str\n",
    "    :rtype: int\n",
    "    \"\"\"\n",
    "    s"
   ]
  },
  {
   "cell_type": "code",
   "execution_count": null,
   "metadata": {},
   "outputs": [],
   "source": []
  },
  {
   "cell_type": "code",
   "execution_count": 61,
   "metadata": {},
   "outputs": [],
   "source": [
    "str_ = \"pwwkew\""
   ]
  },
  {
   "cell_type": "code",
   "execution_count": 62,
   "metadata": {},
   "outputs": [],
   "source": [
    "lst_res = []\n",
    "i = 0\n",
    "j = 0\n",
    "while i < len(str_):\n",
    "    j -=1\n",
    "    lst_res.append(str_[i:])\n",
    "    \n",
    "    i+=1"
   ]
  },
  {
   "cell_type": "code",
   "execution_count": 79,
   "metadata": {},
   "outputs": [
    {
     "name": "stdout",
     "output_type": "stream",
     "text": [
      "pwwkew\n",
      "pwwkew\n",
      "pwwkew\n",
      "pwwkew\n"
     ]
    },
    {
     "ename": "IndexError",
     "evalue": "string index out of range",
     "output_type": "error",
     "traceback": [
      "\u001b[0;31m---------------------------------------------------------------------------\u001b[0m",
      "\u001b[0;31mIndexError\u001b[0m                                Traceback (most recent call last)",
      "Cell \u001b[0;32mIn[79], line 3\u001b[0m\n\u001b[1;32m      1\u001b[0m \u001b[38;5;28;01mfor\u001b[39;00m word \u001b[38;5;129;01min\u001b[39;00m [i \u001b[38;5;28;01mfor\u001b[39;00m i \u001b[38;5;129;01min\u001b[39;00m lst_res]:\n\u001b[1;32m      2\u001b[0m     \u001b[38;5;28;01mfor\u001b[39;00m j \u001b[38;5;129;01min\u001b[39;00m \u001b[38;5;28mrange\u001b[39m(\u001b[38;5;28mlen\u001b[39m(word)):\n\u001b[0;32m----> 3\u001b[0m         \u001b[38;5;28;01mif\u001b[39;00m word[j] \u001b[38;5;241m!=\u001b[39m \u001b[43mword\u001b[49m\u001b[43m[\u001b[49m\u001b[43mj\u001b[49m\u001b[38;5;241;43m+\u001b[39;49m\u001b[38;5;241;43m1\u001b[39;49m\u001b[43m]\u001b[49m:\n\u001b[1;32m      4\u001b[0m             \u001b[38;5;28mprint\u001b[39m(word)\n\u001b[1;32m      5\u001b[0m         \u001b[38;5;28;01melse\u001b[39;00m:\n",
      "\u001b[0;31mIndexError\u001b[0m: string index out of range"
     ]
    }
   ],
   "source": [
    "for word in [i for i in lst_res]:\n",
    "    for j in range(len(word)):\n",
    "        if word[j] != word[j+1]:\n",
    "            print(word)\n",
    "        else:\n",
    "            pass"
   ]
  },
  {
   "cell_type": "code",
   "execution_count": 80,
   "metadata": {},
   "outputs": [],
   "source": [
    "res = \"\"\n",
    "set_ = set()\n",
    "for i in a:\n",
    "    if i in res:\n",
    "        set_.add(i)\n",
    "    else:\n",
    "        res+=i\n",
    "        \n"
   ]
  },
  {
   "cell_type": "code",
   "execution_count": 67,
   "metadata": {},
   "outputs": [
    {
     "data": {
      "text/plain": [
       "'ww'"
      ]
     },
     "execution_count": 67,
     "metadata": {},
     "output_type": "execute_result"
    }
   ],
   "source": [
    "res_1"
   ]
  },
  {
   "cell_type": "code",
   "execution_count": 70,
   "metadata": {},
   "outputs": [],
   "source": [
    "i = 0\n",
    "set_ = set()\n",
    "res = \"\"\n",
    "lst = []\n",
    "while i < len(str_):\n",
    "    if str_[i] not in set_:\n",
    "        set_.add(str_[i])\n",
    "        res += str_[i]\n",
    "        lst.append(len(res))\n",
    "    else:\n",
    "        res += str_[i]\n",
    "        \n",
    "    \n",
    "    \n",
    "    i +=1"
   ]
  },
  {
   "cell_type": "code",
   "execution_count": 73,
   "metadata": {},
   "outputs": [
    {
     "data": {
      "text/plain": [
       "{'e', 'k', 'p', 'w'}"
      ]
     },
     "execution_count": 73,
     "metadata": {},
     "output_type": "execute_result"
    }
   ],
   "source": [
    "set_"
   ]
  },
  {
   "cell_type": "code",
   "execution_count": null,
   "metadata": {},
   "outputs": [],
   "source": []
  },
  {
   "cell_type": "code",
   "execution_count": null,
   "metadata": {},
   "outputs": [],
   "source": []
  },
  {
   "cell_type": "code",
   "execution_count": 118,
   "metadata": {},
   "outputs": [],
   "source": [
    "def threeSum(nums):\n",
    "    \"\"\"\n",
    "    :type nums: List[int]\n",
    "    :rtype: List[List[int]]\n",
    "    \"\"\"\n",
    "    nums.sort()\n",
    "    output = []\n",
    "    length = len(nums)\n",
    "    \n",
    "    for i in range(length-2):\n",
    "        \n",
    "        if i > 0 and nums[i] == nums[i-1]:\n",
    "            continue\n",
    "        \n",
    "        left, right = i+1, length-1\n",
    "        while left < right:\n",
    "            current = nums[i] + nums[left] + nums[right]\n",
    "            if current == 0:\n",
    "                output.append([nums[i], nums[left], nums[right]])\n",
    "                while left < right and nums[left] == nums[left+1]:\n",
    "                    left += 1\n",
    "                while right > left and nums[right] == nums[right-1]:\n",
    "                    right -= 1\n",
    "                \n",
    "                left += 1 \n",
    "                right -= 1\n",
    "            \n",
    "            elif current < 0:\n",
    "                left += 1\n",
    "            \n",
    "            else:\n",
    "                right -= 1\n",
    "    return output\n",
    "            "
   ]
  },
  {
   "cell_type": "code",
   "execution_count": 119,
   "metadata": {},
   "outputs": [
    {
     "data": {
      "text/plain": [
       "[[-1, 0, 1]]"
      ]
     },
     "execution_count": 119,
     "metadata": {},
     "output_type": "execute_result"
    }
   ],
   "source": [
    "threeSum([1,-1,-1,0])"
   ]
  },
  {
   "cell_type": "code",
   "execution_count": null,
   "metadata": {},
   "outputs": [],
   "source": []
  },
  {
   "cell_type": "code",
   "execution_count": 9,
   "metadata": {},
   "outputs": [],
   "source": [
    "def longestPalindrome(s):\n",
    "    n = len(s)\n",
    "    res = \"\"\n",
    "    res_length = 0\n",
    "\n",
    "    for i in range(n):\n",
    "        # if n % 2 == 0:\n",
    "        #     l, r = i, i\n",
    "        # else:\n",
    "        #     l, r = i, i+1\n",
    "            \n",
    "        # odd\n",
    "        l, r = i, i\n",
    "        while l >= 0 and r < n and s[l] == s[r]:\n",
    "            if (r - l + 1) > res_length:\n",
    "                res = s[l:r+1]\n",
    "                res_length = (r - l + 1)\n",
    "            \n",
    "            l -= 1\n",
    "            r += 1\n",
    "\n",
    "        # # even\n",
    "        l, r = i, i+1\n",
    "        while l >= 0 and r < n and s[l] == s[r]:\n",
    "            if (r - l + 1) > res_length:\n",
    "                res = s[l:r+1]\n",
    "                res_length = (r - l + 1)\n",
    "            \n",
    "            l -= 1\n",
    "            r += 1\n",
    "    return res"
   ]
  },
  {
   "cell_type": "code",
   "execution_count": 11,
   "metadata": {},
   "outputs": [
    {
     "data": {
      "text/plain": [
       "'bab'"
      ]
     },
     "execution_count": 11,
     "metadata": {},
     "output_type": "execute_result"
    }
   ],
   "source": [
    "longestPalindrome(\"babad\")"
   ]
  },
  {
   "cell_type": "code",
   "execution_count": 13,
   "metadata": {},
   "outputs": [],
   "source": [
    "def longestPalindrome(self, s):\n",
    "    def func(l, r):\n",
    "        while l >= 0 and r < len(s) and s[l] == s[r]:\n",
    "            l -= 1\n",
    "            r += 1\n",
    "        return s[l+1:r]\n",
    "\n",
    "    result = \"\"\n",
    "    for i in range(len(s)):\n",
    "        sub1 = func(i, i)\n",
    "        if len(sub1) > len(result):\n",
    "            result = sub1\n",
    "        sub2 = func(i, i+1)\n",
    "        if len(sub2) > len(result):\n",
    "            result = sub2\n",
    "    return result"
   ]
  },
  {
   "cell_type": "code",
   "execution_count": null,
   "metadata": {},
   "outputs": [],
   "source": [
    "longestPalindrome()"
   ]
  },
  {
   "cell_type": "code",
   "execution_count": 14,
   "metadata": {},
   "outputs": [],
   "source": [
    "lst = [\"bb\", \"cdcdc\"]"
   ]
  },
  {
   "cell_type": "code",
   "execution_count": 15,
   "metadata": {},
   "outputs": [
    {
     "data": {
      "text/plain": [
       "{'bb': 2, 'cdcdc': 5}"
      ]
     },
     "execution_count": 15,
     "metadata": {},
     "output_type": "execute_result"
    }
   ],
   "source": [
    "{item:len(item) for item in lst}"
   ]
  },
  {
   "cell_type": "code",
   "execution_count": 19,
   "metadata": {},
   "outputs": [
    {
     "data": {
      "text/plain": [
       "[('bb', 2), ('cdcdc', 5)]"
      ]
     },
     "execution_count": 19,
     "metadata": {},
     "output_type": "execute_result"
    }
   ],
   "source": [
    "list(zip(lst, list(map(len, lst))))"
   ]
  },
  {
   "cell_type": "code",
   "execution_count": null,
   "metadata": {},
   "outputs": [],
   "source": []
  }
 ],
 "metadata": {
  "kernelspec": {
   "display_name": "py311",
   "language": "python",
   "name": "python3"
  },
  "language_info": {
   "codemirror_mode": {
    "name": "ipython",
    "version": 3
   },
   "file_extension": ".py",
   "mimetype": "text/x-python",
   "name": "python",
   "nbconvert_exporter": "python",
   "pygments_lexer": "ipython3",
   "version": "3.11.9"
  }
 },
 "nbformat": 4,
 "nbformat_minor": 2
}
