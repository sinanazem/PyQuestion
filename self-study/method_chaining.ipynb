{
 "cells": [
  {
   "cell_type": "markdown",
   "id": "6088db85",
   "metadata": {},
   "source": [
    "# Method Chaining"
   ]
  },
  {
   "cell_type": "markdown",
   "id": "a2ed2642",
   "metadata": {},
   "source": [
    "<img src=\"https://i.ytimg.com/vi/y6k9hIss1Y4/maxresdefault.jpg\" height=350 width=700>"
   ]
  },
  {
   "cell_type": "markdown",
   "id": "6b15fd7e",
   "metadata": {},
   "source": [
    "Method chaining is simply being able to add `.second_func()` to whatever `.first_func()` returns. It is fairly easily implemented by ensuring that all chainable methods return self. (Note that this has nothing to do with `__call()__`).\n"
   ]
  },
  {
   "cell_type": "code",
   "execution_count": 30,
   "id": "4fc1b5e5",
   "metadata": {},
   "outputs": [],
   "source": [
    "class foo():\n",
    "    def __init__(self, kind=None):\n",
    "        self.kind = kind\n",
    "    def my_print(self):\n",
    "        print (self.kind)\n",
    "        return self\n",
    "    def line(self):\n",
    "        self.kind = 'line'\n",
    "        return self\n",
    "    def bar(self):\n",
    "        self.kind='bar'\n",
    "        return self"
   ]
  },
  {
   "cell_type": "markdown",
   "id": "67ed84a5",
   "metadata": {},
   "source": [
    "You can use `foo` objects in a non-chained way by ignoring their returned values:"
   ]
  },
  {
   "cell_type": "code",
   "execution_count": 31,
   "id": "b845a2c9",
   "metadata": {},
   "outputs": [
    {
     "name": "stdout",
     "output_type": "stream",
     "text": [
      "line\n",
      "bar\n"
     ]
    }
   ],
   "source": [
    "a = foo()\n",
    "a.line()\n",
    "a.my_print()\n",
    "a.bar()\n",
    "a.my_print()\n",
    "\n",
    "assert a.kind == 'bar'"
   ]
  },
  {
   "cell_type": "code",
   "execution_count": 32,
   "id": "0a61e8d0",
   "metadata": {},
   "outputs": [
    {
     "name": "stdout",
     "output_type": "stream",
     "text": [
      "line\n",
      "bar\n"
     ]
    }
   ],
   "source": [
    "b = foo()\n",
    "b.line().my_print().bar().my_print()\n",
    "assert b.kind == 'bar'"
   ]
  },
  {
   "cell_type": "code",
   "execution_count": 33,
   "id": "743ab930",
   "metadata": {},
   "outputs": [
    {
     "name": "stdout",
     "output_type": "stream",
     "text": [
      "line\n",
      "bar\n"
     ]
    }
   ],
   "source": [
    "c = foo().line().my_print().bar().my_print()\n",
    "assert c.kind == 'bar'"
   ]
  },
  {
   "cell_type": "markdown",
   "id": "efd4bcee",
   "metadata": {},
   "source": [
    "The question of getting rid of the `()` calling syntax is a completely separate concept from method chaining. If you want chain properties, and have those properties mutate their object, use the `@property` decorator. (But mutating objects via a property seems dangerous. Better to use a method and name it with a verb: `.set_line()` instead of `.line`, for example.)"
   ]
  },
  {
   "cell_type": "code",
   "execution_count": 34,
   "id": "948990bd",
   "metadata": {},
   "outputs": [
    {
     "name": "stdout",
     "output_type": "stream",
     "text": [
      "line\n",
      "bar\n",
      "line\n",
      "bar\n",
      "line\n",
      "bar\n"
     ]
    }
   ],
   "source": [
    "class foo():\n",
    "    def __init__(self, kind=None):\n",
    "        self.kind = kind\n",
    "    def my_print(self):\n",
    "        print (self.kind)\n",
    "        return self\n",
    "    @property\n",
    "    def line(self):\n",
    "        self.kind = 'line'\n",
    "        return self\n",
    "    @property\n",
    "    def bar(self):\n",
    "        self.kind='bar'\n",
    "        return self\n",
    "\n",
    "a = foo()\n",
    "a.line\n",
    "a.my_print()\n",
    "a.bar\n",
    "a.my_print()\n",
    "\n",
    "assert a.kind == 'bar'\n",
    "\n",
    "b = foo()\n",
    "b.line.my_print().bar.my_print()\n",
    "assert b.kind == 'bar'\n",
    "\n",
    "c = foo().line.my_print().bar.my_print()\n",
    "assert c.kind == 'bar'"
   ]
  },
  {
   "cell_type": "markdown",
   "id": "db3517c1",
   "metadata": {},
   "source": [
    "# Exaples:"
   ]
  },
  {
   "cell_type": "code",
   "execution_count": 1,
   "id": "a8b77823",
   "metadata": {},
   "outputs": [],
   "source": [
    "from dataclasses import dataclass"
   ]
  },
  {
   "cell_type": "code",
   "execution_count": 3,
   "id": "fd2b0bbc",
   "metadata": {},
   "outputs": [],
   "source": [
    "@dataclass\n",
    "class GenerateEmail:\n",
    "    name: str\n",
    "    birthdate: int\n",
    "    \n",
    "    def lower(self):\n",
    "        self.name = self.name.lower()\n",
    "    def capitalize(self):\n",
    "        self.name = self.name.capitalize()\n",
    "    def generate_email(self):\n",
    "        email = f\"{self.name}{self.birthdate}@email.com\"\n",
    "        return email"
   ]
  },
  {
   "cell_type": "code",
   "execution_count": 8,
   "id": "ab7b660d",
   "metadata": {},
   "outputs": [],
   "source": [
    "obj = GenerateEmail('SINA',2000)"
   ]
  },
  {
   "cell_type": "code",
   "execution_count": 9,
   "id": "e1891235",
   "metadata": {},
   "outputs": [],
   "source": [
    "obj.lower()"
   ]
  },
  {
   "cell_type": "code",
   "execution_count": 11,
   "id": "bad9418c",
   "metadata": {},
   "outputs": [
    {
     "data": {
      "text/plain": [
       "'sina'"
      ]
     },
     "execution_count": 11,
     "metadata": {},
     "output_type": "execute_result"
    }
   ],
   "source": [
    "obj.name"
   ]
  },
  {
   "cell_type": "code",
   "execution_count": 12,
   "id": "e141bd4f",
   "metadata": {},
   "outputs": [],
   "source": [
    "obj.capitalize()"
   ]
  },
  {
   "cell_type": "code",
   "execution_count": 13,
   "id": "87918c4b",
   "metadata": {},
   "outputs": [
    {
     "data": {
      "text/plain": [
       "'Sina'"
      ]
     },
     "execution_count": 13,
     "metadata": {},
     "output_type": "execute_result"
    }
   ],
   "source": [
    "obj.name"
   ]
  },
  {
   "cell_type": "code",
   "execution_count": 14,
   "id": "073f001a",
   "metadata": {},
   "outputs": [
    {
     "data": {
      "text/plain": [
       "'Sina2000@email.com'"
      ]
     },
     "execution_count": 14,
     "metadata": {},
     "output_type": "execute_result"
    }
   ],
   "source": [
    "obj.generate_email()"
   ]
  },
  {
   "cell_type": "code",
   "execution_count": 15,
   "id": "d15a9298",
   "metadata": {},
   "outputs": [
    {
     "ename": "AttributeError",
     "evalue": "'NoneType' object has no attribute 'capitalize'",
     "output_type": "error",
     "traceback": [
      "\u001b[1;31m---------------------------------------------------------------------------\u001b[0m",
      "\u001b[1;31mAttributeError\u001b[0m                            Traceback (most recent call last)",
      "\u001b[1;32m~\\AppData\\Local\\Temp/ipykernel_13492/3775536666.py\u001b[0m in \u001b[0;36m<module>\u001b[1;34m\u001b[0m\n\u001b[1;32m----> 1\u001b[1;33m \u001b[0mobj\u001b[0m\u001b[1;33m.\u001b[0m\u001b[0mlower\u001b[0m\u001b[1;33m(\u001b[0m\u001b[1;33m)\u001b[0m\u001b[1;33m.\u001b[0m\u001b[0mcapitalize\u001b[0m\u001b[1;33m(\u001b[0m\u001b[1;33m)\u001b[0m\u001b[1;33m.\u001b[0m\u001b[0mgenerate_email\u001b[0m\u001b[1;33m(\u001b[0m\u001b[1;33m)\u001b[0m\u001b[1;33m\u001b[0m\u001b[1;33m\u001b[0m\u001b[0m\n\u001b[0m",
      "\u001b[1;31mAttributeError\u001b[0m: 'NoneType' object has no attribute 'capitalize'"
     ]
    }
   ],
   "source": [
    "obj.lower().capitalize().generate_email()"
   ]
  },
  {
   "cell_type": "code",
   "execution_count": 17,
   "id": "6d2bb6d8",
   "metadata": {},
   "outputs": [],
   "source": [
    "@dataclass\n",
    "class GenerateEmail:\n",
    "    name: str\n",
    "    birthdate: int\n",
    "    \n",
    "    def lower(self):\n",
    "        self.name = self.name.lower()\n",
    "        return self\n",
    "    def capitalize(self):\n",
    "        self.name = self.name.capitalize()\n",
    "        return self\n",
    "    def generate_email(self):\n",
    "        email = f\"{self.name}{self.birthdate}@email.com\"\n",
    "        return email"
   ]
  },
  {
   "cell_type": "code",
   "execution_count": 18,
   "id": "00091182",
   "metadata": {},
   "outputs": [],
   "source": [
    "obj2 = GenerateEmail('SINA',2000)"
   ]
  },
  {
   "cell_type": "code",
   "execution_count": 19,
   "id": "006a3d44",
   "metadata": {},
   "outputs": [
    {
     "data": {
      "text/plain": [
       "'Sina2000@email.com'"
      ]
     },
     "execution_count": 19,
     "metadata": {},
     "output_type": "execute_result"
    }
   ],
   "source": [
    "obj2.lower().capitalize().generate_email()"
   ]
  },
  {
   "cell_type": "code",
   "execution_count": 24,
   "id": "83e8a11d",
   "metadata": {},
   "outputs": [],
   "source": [
    "@dataclass\n",
    "class GenerateEmail:\n",
    "    name: str\n",
    "    birthdate: int\n",
    "    @property\n",
    "    def lower(self):\n",
    "        self.name = self.name.lower()\n",
    "        return self\n",
    "    @property\n",
    "    def capitalize(self):\n",
    "        self.name = self.name.capitalize()\n",
    "        return self\n",
    "    def generate_email(self):\n",
    "        email = f\"{self.name}{self.birthdate}@email.com\"\n",
    "        return email"
   ]
  },
  {
   "cell_type": "code",
   "execution_count": 25,
   "id": "b12c11c4",
   "metadata": {},
   "outputs": [],
   "source": [
    "obj3 = GenerateEmail('SINA',2000)"
   ]
  },
  {
   "cell_type": "code",
   "execution_count": 27,
   "id": "edbe6d2a",
   "metadata": {},
   "outputs": [
    {
     "data": {
      "text/plain": [
       "'Sina2000@email.com'"
      ]
     },
     "execution_count": 27,
     "metadata": {},
     "output_type": "execute_result"
    }
   ],
   "source": [
    "obj3.lower.capitalize.generate_email()"
   ]
  },
  {
   "cell_type": "code",
   "execution_count": null,
   "id": "27758124",
   "metadata": {},
   "outputs": [],
   "source": []
  }
 ],
 "metadata": {
  "kernelspec": {
   "display_name": "Python 3 (ipykernel)",
   "language": "python",
   "name": "python3"
  },
  "language_info": {
   "codemirror_mode": {
    "name": "ipython",
    "version": 3
   },
   "file_extension": ".py",
   "mimetype": "text/x-python",
   "name": "python",
   "nbconvert_exporter": "python",
   "pygments_lexer": "ipython3",
   "version": "3.9.7"
  }
 },
 "nbformat": 4,
 "nbformat_minor": 5
}
