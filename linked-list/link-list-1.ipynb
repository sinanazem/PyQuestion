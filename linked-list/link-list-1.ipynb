{
 "cells": [
  {
   "cell_type": "code",
   "execution_count": 26,
   "id": "2a95bb4d-c705-41bd-8519-1f7f454f418e",
   "metadata": {},
   "outputs": [],
   "source": [
    "list_ = [92, 97, 21, 79]"
   ]
  },
  {
   "cell_type": "code",
   "execution_count": 27,
   "id": "7f427e95-c7ee-4222-833d-8bdcc2186320",
   "metadata": {},
   "outputs": [],
   "source": [
    "class Node:\n",
    "    def __init__(self, data):\n",
    "        self.data = data\n",
    "        self.next = None\n",
    "\n",
    "class LinkedList:\n",
    "    def __init__(self, node):\n",
    "        self.head = None"
   ]
  },
  {
   "cell_type": "code",
   "execution_count": 28,
   "id": "cb1ca5c4-53b7-4875-9e25-0667d8ba9632",
   "metadata": {},
   "outputs": [],
   "source": [
    "first_node = Node(92)\n",
    "second_node = Node(97)\n",
    "third_node = Node(21)\n",
    "fourth_node = Node(79)\n",
    "\n",
    "first_node.next = second_node\n",
    "second_node.next = third_node\n",
    "third_node.next = fourth_node\n",
    "fourth_node.next = None"
   ]
  },
  {
   "cell_type": "code",
   "execution_count": 29,
   "id": "ed8f8a00-6f90-45ab-9c28-e621168cc7b1",
   "metadata": {},
   "outputs": [],
   "source": [
    "ll = LinkedList(first_node)"
   ]
  },
  {
   "cell_type": "code",
   "execution_count": 30,
   "id": "3f9b66cf-840a-43e8-a4c0-a848c5d6784c",
   "metadata": {},
   "outputs": [],
   "source": [
    "ll.head = first_node"
   ]
  },
  {
   "cell_type": "code",
   "execution_count": 32,
   "id": "f9cc28dc-b8cc-467a-9f42-a0233badfb56",
   "metadata": {},
   "outputs": [
    {
     "data": {
      "text/plain": [
       "92"
      ]
     },
     "execution_count": 32,
     "metadata": {},
     "output_type": "execute_result"
    }
   ],
   "source": [
    "ll.head.data"
   ]
  },
  {
   "cell_type": "code",
   "execution_count": 33,
   "id": "c04185a0-dfd8-448a-a782-007b96e2c9bd",
   "metadata": {},
   "outputs": [
    {
     "data": {
      "text/plain": [
       "97"
      ]
     },
     "execution_count": 33,
     "metadata": {},
     "output_type": "execute_result"
    }
   ],
   "source": [
    "ll.head.next.data"
   ]
  },
  {
   "cell_type": "code",
   "execution_count": 34,
   "id": "1fbc15d9-1c9e-4eed-b634-452ee4f0093f",
   "metadata": {},
   "outputs": [
    {
     "data": {
      "text/plain": [
       "21"
      ]
     },
     "execution_count": 34,
     "metadata": {},
     "output_type": "execute_result"
    }
   ],
   "source": [
    "ll.head.next.next.data"
   ]
  },
  {
   "cell_type": "code",
   "execution_count": 35,
   "id": "150bacf9-0864-408e-9b38-f50b495fbb9d",
   "metadata": {},
   "outputs": [
    {
     "data": {
      "text/plain": [
       "79"
      ]
     },
     "execution_count": 35,
     "metadata": {},
     "output_type": "execute_result"
    }
   ],
   "source": [
    "ll.head.next.next.next.data"
   ]
  },
  {
   "cell_type": "code",
   "execution_count": null,
   "id": "302b35fe-0a30-4269-bc25-0ca14ad9ec2b",
   "metadata": {},
   "outputs": [],
   "source": []
  }
 ],
 "metadata": {
  "kernelspec": {
   "display_name": "Python 3 (ipykernel)",
   "language": "python",
   "name": "python3"
  },
  "language_info": {
   "codemirror_mode": {
    "name": "ipython",
    "version": 3
   },
   "file_extension": ".py",
   "mimetype": "text/x-python",
   "name": "python",
   "nbconvert_exporter": "python",
   "pygments_lexer": "ipython3",
   "version": "3.11.3"
  }
 },
 "nbformat": 4,
 "nbformat_minor": 5
}
